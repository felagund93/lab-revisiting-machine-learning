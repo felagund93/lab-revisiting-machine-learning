{
 "cells": [
  {
   "cell_type": "markdown",
   "id": "2b2fd8d6",
   "metadata": {},
   "source": [
    "![logo_ironhack_blue 7](https://user-images.githubusercontent.com/23629340/40541063-a07a0a8a-601a-11e8-91b5-2f13e4e6b441.png)\n",
    "\n",
    "# Lab | Revisiting Machine Learning Case Study\n",
    "\n",
    "- In this lab, you will use `learningSet.csv` file which you already have cloned in today's activities. \n",
    "\n",
    "### Instructions\n",
    "\n",
    "Complete the following steps on the categorical columns in the dataset:\n",
    "\n",
    "- Check for null values in all the columns\n",
    "- Exclude the following variables by looking at the definitions. Create a new empty list called `drop_list`. We will append this list and then drop all the columns in this list later:\n",
    "    - `OSOURCE` - symbol definitions not provided, too many categories\n",
    "    - `ZIP CODE` - we are including state already\n",
    "- Identify columns that over 85% missing values\n",
    "- Remove those columns from the dataframe\n",
    "- Reduce the number of categories in the column `GENDER`. The column should only have either \"M\" for males, \"F\" for females, and \"other\" for all the rest\n",
    "    - Note that there are a few null values in the column. We will first replace those null values using the code below:\n",
    "\n",
    "    ```python\n",
    "    print(categorical['GENDER'].value_counts())\n",
    "    categorical['GENDER'] = categorical['GENDER'].fillna('F')\n",
    "    ```"
   ]
  },
  {
   "cell_type": "code",
   "execution_count": 1,
   "id": "94f5bfb2",
   "metadata": {},
   "outputs": [],
   "source": [
    "# Prepare toolbox\n",
    "\n",
    "import pandas as pd\n",
    "import numpy as np\n",
    "import datetime"
   ]
  },
  {
   "cell_type": "code",
   "execution_count": 2,
   "id": "c9824571",
   "metadata": {},
   "outputs": [
    {
     "name": "stderr",
     "output_type": "stream",
     "text": [
      "/opt/anaconda3/lib/python3.8/site-packages/IPython/core/interactiveshell.py:3165: DtypeWarning: Columns (8) have mixed types.Specify dtype option on import or set low_memory=False.\n",
      "  has_raised = await self.run_ast_nodes(code_ast.body, cell_name,\n"
     ]
    },
    {
     "data": {
      "text/plain": [
       "(95412, 481)"
      ]
     },
     "execution_count": 2,
     "metadata": {},
     "output_type": "execute_result"
    }
   ],
   "source": [
    "df = pd.read_csv('../learningSet.csv')\n",
    "df.shape"
   ]
  },
  {
   "cell_type": "code",
   "execution_count": 3,
   "id": "9db17ec4",
   "metadata": {},
   "outputs": [
    {
     "data": {
      "text/html": [
       "<div>\n",
       "<style scoped>\n",
       "    .dataframe tbody tr th:only-of-type {\n",
       "        vertical-align: middle;\n",
       "    }\n",
       "\n",
       "    .dataframe tbody tr th {\n",
       "        vertical-align: top;\n",
       "    }\n",
       "\n",
       "    .dataframe thead th {\n",
       "        text-align: right;\n",
       "    }\n",
       "</style>\n",
       "<table border=\"1\" class=\"dataframe\">\n",
       "  <thead>\n",
       "    <tr style=\"text-align: right;\">\n",
       "      <th></th>\n",
       "      <th>ODATEDW</th>\n",
       "      <th>TCODE</th>\n",
       "      <th>DOB</th>\n",
       "      <th>AGE</th>\n",
       "      <th>NUMCHLD</th>\n",
       "      <th>INCOME</th>\n",
       "      <th>WEALTH1</th>\n",
       "      <th>HIT</th>\n",
       "      <th>MBCRAFT</th>\n",
       "      <th>MBGARDEN</th>\n",
       "      <th>...</th>\n",
       "      <th>FISTDATE</th>\n",
       "      <th>NEXTDATE</th>\n",
       "      <th>TIMELAG</th>\n",
       "      <th>AVGGIFT</th>\n",
       "      <th>CONTROLN</th>\n",
       "      <th>TARGET_B</th>\n",
       "      <th>TARGET_D</th>\n",
       "      <th>HPHONE_D</th>\n",
       "      <th>RFA_2F</th>\n",
       "      <th>CLUSTER2</th>\n",
       "    </tr>\n",
       "  </thead>\n",
       "  <tbody>\n",
       "    <tr>\n",
       "      <th>count</th>\n",
       "      <td>95412.000000</td>\n",
       "      <td>95412.000000</td>\n",
       "      <td>95412.000000</td>\n",
       "      <td>71747.000000</td>\n",
       "      <td>12386.000000</td>\n",
       "      <td>74126.000000</td>\n",
       "      <td>50680.000000</td>\n",
       "      <td>95412.000000</td>\n",
       "      <td>42558.000000</td>\n",
       "      <td>42558.000000</td>\n",
       "      <td>...</td>\n",
       "      <td>95412.000000</td>\n",
       "      <td>85439.000000</td>\n",
       "      <td>85439.000000</td>\n",
       "      <td>95412.000000</td>\n",
       "      <td>95412.000000</td>\n",
       "      <td>95412.000000</td>\n",
       "      <td>95412.000000</td>\n",
       "      <td>95412.000000</td>\n",
       "      <td>95412.000000</td>\n",
       "      <td>95280.000000</td>\n",
       "    </tr>\n",
       "    <tr>\n",
       "      <th>mean</th>\n",
       "      <td>9141.363256</td>\n",
       "      <td>54.223117</td>\n",
       "      <td>2723.602933</td>\n",
       "      <td>61.611649</td>\n",
       "      <td>1.527773</td>\n",
       "      <td>3.886248</td>\n",
       "      <td>5.345699</td>\n",
       "      <td>3.321438</td>\n",
       "      <td>0.152075</td>\n",
       "      <td>0.059166</td>\n",
       "      <td>...</td>\n",
       "      <td>9135.651648</td>\n",
       "      <td>9151.022917</td>\n",
       "      <td>8.093739</td>\n",
       "      <td>13.347786</td>\n",
       "      <td>95778.176959</td>\n",
       "      <td>0.050759</td>\n",
       "      <td>0.793073</td>\n",
       "      <td>0.500618</td>\n",
       "      <td>1.910053</td>\n",
       "      <td>31.533711</td>\n",
       "    </tr>\n",
       "    <tr>\n",
       "      <th>std</th>\n",
       "      <td>343.454752</td>\n",
       "      <td>953.844476</td>\n",
       "      <td>2132.241295</td>\n",
       "      <td>16.664199</td>\n",
       "      <td>0.806861</td>\n",
       "      <td>1.854960</td>\n",
       "      <td>2.742490</td>\n",
       "      <td>9.306899</td>\n",
       "      <td>0.470023</td>\n",
       "      <td>0.262078</td>\n",
       "      <td>...</td>\n",
       "      <td>320.394019</td>\n",
       "      <td>294.257260</td>\n",
       "      <td>8.213242</td>\n",
       "      <td>10.769997</td>\n",
       "      <td>55284.596094</td>\n",
       "      <td>0.219506</td>\n",
       "      <td>4.429725</td>\n",
       "      <td>0.500002</td>\n",
       "      <td>1.072749</td>\n",
       "      <td>18.764614</td>\n",
       "    </tr>\n",
       "    <tr>\n",
       "      <th>min</th>\n",
       "      <td>8306.000000</td>\n",
       "      <td>0.000000</td>\n",
       "      <td>0.000000</td>\n",
       "      <td>1.000000</td>\n",
       "      <td>1.000000</td>\n",
       "      <td>1.000000</td>\n",
       "      <td>0.000000</td>\n",
       "      <td>0.000000</td>\n",
       "      <td>0.000000</td>\n",
       "      <td>0.000000</td>\n",
       "      <td>...</td>\n",
       "      <td>0.000000</td>\n",
       "      <td>7211.000000</td>\n",
       "      <td>0.000000</td>\n",
       "      <td>1.285714</td>\n",
       "      <td>1.000000</td>\n",
       "      <td>0.000000</td>\n",
       "      <td>0.000000</td>\n",
       "      <td>0.000000</td>\n",
       "      <td>1.000000</td>\n",
       "      <td>1.000000</td>\n",
       "    </tr>\n",
       "    <tr>\n",
       "      <th>25%</th>\n",
       "      <td>8801.000000</td>\n",
       "      <td>0.000000</td>\n",
       "      <td>201.000000</td>\n",
       "      <td>48.000000</td>\n",
       "      <td>1.000000</td>\n",
       "      <td>2.000000</td>\n",
       "      <td>3.000000</td>\n",
       "      <td>0.000000</td>\n",
       "      <td>0.000000</td>\n",
       "      <td>0.000000</td>\n",
       "      <td>...</td>\n",
       "      <td>8810.000000</td>\n",
       "      <td>8903.000000</td>\n",
       "      <td>4.000000</td>\n",
       "      <td>8.384615</td>\n",
       "      <td>47910.750000</td>\n",
       "      <td>0.000000</td>\n",
       "      <td>0.000000</td>\n",
       "      <td>0.000000</td>\n",
       "      <td>1.000000</td>\n",
       "      <td>15.000000</td>\n",
       "    </tr>\n",
       "    <tr>\n",
       "      <th>50%</th>\n",
       "      <td>9201.000000</td>\n",
       "      <td>1.000000</td>\n",
       "      <td>2610.000000</td>\n",
       "      <td>62.000000</td>\n",
       "      <td>1.000000</td>\n",
       "      <td>4.000000</td>\n",
       "      <td>6.000000</td>\n",
       "      <td>0.000000</td>\n",
       "      <td>0.000000</td>\n",
       "      <td>0.000000</td>\n",
       "      <td>...</td>\n",
       "      <td>9201.000000</td>\n",
       "      <td>9204.000000</td>\n",
       "      <td>6.000000</td>\n",
       "      <td>11.636364</td>\n",
       "      <td>95681.500000</td>\n",
       "      <td>0.000000</td>\n",
       "      <td>0.000000</td>\n",
       "      <td>1.000000</td>\n",
       "      <td>2.000000</td>\n",
       "      <td>32.000000</td>\n",
       "    </tr>\n",
       "    <tr>\n",
       "      <th>75%</th>\n",
       "      <td>9501.000000</td>\n",
       "      <td>2.000000</td>\n",
       "      <td>4601.000000</td>\n",
       "      <td>75.000000</td>\n",
       "      <td>2.000000</td>\n",
       "      <td>5.000000</td>\n",
       "      <td>8.000000</td>\n",
       "      <td>3.000000</td>\n",
       "      <td>0.000000</td>\n",
       "      <td>0.000000</td>\n",
       "      <td>...</td>\n",
       "      <td>9409.000000</td>\n",
       "      <td>9409.000000</td>\n",
       "      <td>11.000000</td>\n",
       "      <td>15.477955</td>\n",
       "      <td>143643.500000</td>\n",
       "      <td>0.000000</td>\n",
       "      <td>0.000000</td>\n",
       "      <td>1.000000</td>\n",
       "      <td>3.000000</td>\n",
       "      <td>49.000000</td>\n",
       "    </tr>\n",
       "    <tr>\n",
       "      <th>max</th>\n",
       "      <td>9701.000000</td>\n",
       "      <td>72002.000000</td>\n",
       "      <td>9710.000000</td>\n",
       "      <td>98.000000</td>\n",
       "      <td>7.000000</td>\n",
       "      <td>7.000000</td>\n",
       "      <td>9.000000</td>\n",
       "      <td>241.000000</td>\n",
       "      <td>6.000000</td>\n",
       "      <td>4.000000</td>\n",
       "      <td>...</td>\n",
       "      <td>9603.000000</td>\n",
       "      <td>9702.000000</td>\n",
       "      <td>1088.000000</td>\n",
       "      <td>1000.000000</td>\n",
       "      <td>191779.000000</td>\n",
       "      <td>1.000000</td>\n",
       "      <td>200.000000</td>\n",
       "      <td>1.000000</td>\n",
       "      <td>4.000000</td>\n",
       "      <td>62.000000</td>\n",
       "    </tr>\n",
       "  </tbody>\n",
       "</table>\n",
       "<p>8 rows × 407 columns</p>\n",
       "</div>"
      ],
      "text/plain": [
       "            ODATEDW         TCODE           DOB           AGE       NUMCHLD  \\\n",
       "count  95412.000000  95412.000000  95412.000000  71747.000000  12386.000000   \n",
       "mean    9141.363256     54.223117   2723.602933     61.611649      1.527773   \n",
       "std      343.454752    953.844476   2132.241295     16.664199      0.806861   \n",
       "min     8306.000000      0.000000      0.000000      1.000000      1.000000   \n",
       "25%     8801.000000      0.000000    201.000000     48.000000      1.000000   \n",
       "50%     9201.000000      1.000000   2610.000000     62.000000      1.000000   \n",
       "75%     9501.000000      2.000000   4601.000000     75.000000      2.000000   \n",
       "max     9701.000000  72002.000000   9710.000000     98.000000      7.000000   \n",
       "\n",
       "             INCOME       WEALTH1           HIT       MBCRAFT      MBGARDEN  \\\n",
       "count  74126.000000  50680.000000  95412.000000  42558.000000  42558.000000   \n",
       "mean       3.886248      5.345699      3.321438      0.152075      0.059166   \n",
       "std        1.854960      2.742490      9.306899      0.470023      0.262078   \n",
       "min        1.000000      0.000000      0.000000      0.000000      0.000000   \n",
       "25%        2.000000      3.000000      0.000000      0.000000      0.000000   \n",
       "50%        4.000000      6.000000      0.000000      0.000000      0.000000   \n",
       "75%        5.000000      8.000000      3.000000      0.000000      0.000000   \n",
       "max        7.000000      9.000000    241.000000      6.000000      4.000000   \n",
       "\n",
       "       ...      FISTDATE      NEXTDATE       TIMELAG       AVGGIFT  \\\n",
       "count  ...  95412.000000  85439.000000  85439.000000  95412.000000   \n",
       "mean   ...   9135.651648   9151.022917      8.093739     13.347786   \n",
       "std    ...    320.394019    294.257260      8.213242     10.769997   \n",
       "min    ...      0.000000   7211.000000      0.000000      1.285714   \n",
       "25%    ...   8810.000000   8903.000000      4.000000      8.384615   \n",
       "50%    ...   9201.000000   9204.000000      6.000000     11.636364   \n",
       "75%    ...   9409.000000   9409.000000     11.000000     15.477955   \n",
       "max    ...   9603.000000   9702.000000   1088.000000   1000.000000   \n",
       "\n",
       "            CONTROLN      TARGET_B      TARGET_D      HPHONE_D        RFA_2F  \\\n",
       "count   95412.000000  95412.000000  95412.000000  95412.000000  95412.000000   \n",
       "mean    95778.176959      0.050759      0.793073      0.500618      1.910053   \n",
       "std     55284.596094      0.219506      4.429725      0.500002      1.072749   \n",
       "min         1.000000      0.000000      0.000000      0.000000      1.000000   \n",
       "25%     47910.750000      0.000000      0.000000      0.000000      1.000000   \n",
       "50%     95681.500000      0.000000      0.000000      1.000000      2.000000   \n",
       "75%    143643.500000      0.000000      0.000000      1.000000      3.000000   \n",
       "max    191779.000000      1.000000    200.000000      1.000000      4.000000   \n",
       "\n",
       "           CLUSTER2  \n",
       "count  95280.000000  \n",
       "mean      31.533711  \n",
       "std       18.764614  \n",
       "min        1.000000  \n",
       "25%       15.000000  \n",
       "50%       32.000000  \n",
       "75%       49.000000  \n",
       "max       62.000000  \n",
       "\n",
       "[8 rows x 407 columns]"
      ]
     },
     "execution_count": 3,
     "metadata": {},
     "output_type": "execute_result"
    }
   ],
   "source": [
    "df.describe()"
   ]
  },
  {
   "cell_type": "code",
   "execution_count": 4,
   "id": "63b0cd22",
   "metadata": {},
   "outputs": [
    {
     "data": {
      "text/plain": [
       "95403"
      ]
     },
     "execution_count": 4,
     "metadata": {},
     "output_type": "execute_result"
    }
   ],
   "source": [
    "df['RDATE_5'].isna().sum()"
   ]
  },
  {
   "cell_type": "markdown",
   "id": "cac5fe98",
   "metadata": {},
   "source": [
    "- Check for null values in all the columns"
   ]
  },
  {
   "cell_type": "code",
   "execution_count": 5,
   "id": "efc6875e",
   "metadata": {},
   "outputs": [
    {
     "data": {
      "text/html": [
       "<div>\n",
       "<style scoped>\n",
       "    .dataframe tbody tr th:only-of-type {\n",
       "        vertical-align: middle;\n",
       "    }\n",
       "\n",
       "    .dataframe tbody tr th {\n",
       "        vertical-align: top;\n",
       "    }\n",
       "\n",
       "    .dataframe thead th {\n",
       "        text-align: right;\n",
       "    }\n",
       "</style>\n",
       "<table border=\"1\" class=\"dataframe\">\n",
       "  <thead>\n",
       "    <tr style=\"text-align: right;\">\n",
       "      <th></th>\n",
       "      <th>percentage_nulls</th>\n",
       "    </tr>\n",
       "  </thead>\n",
       "  <tbody>\n",
       "    <tr>\n",
       "      <th>RDATE_5</th>\n",
       "      <td>99.990567</td>\n",
       "    </tr>\n",
       "    <tr>\n",
       "      <th>RAMNT_5</th>\n",
       "      <td>99.990567</td>\n",
       "    </tr>\n",
       "    <tr>\n",
       "      <th>RDATE_3</th>\n",
       "      <td>99.746363</td>\n",
       "    </tr>\n",
       "    <tr>\n",
       "      <th>RAMNT_3</th>\n",
       "      <td>99.746363</td>\n",
       "    </tr>\n",
       "    <tr>\n",
       "      <th>RDATE_4</th>\n",
       "      <td>99.705488</td>\n",
       "    </tr>\n",
       "    <tr>\n",
       "      <th>...</th>\n",
       "      <td>...</td>\n",
       "    </tr>\n",
       "    <tr>\n",
       "      <th>ADATE_16</th>\n",
       "      <td>21.343227</td>\n",
       "    </tr>\n",
       "    <tr>\n",
       "      <th>ADATE_14</th>\n",
       "      <td>19.774242</td>\n",
       "    </tr>\n",
       "    <tr>\n",
       "      <th>ADATE_9</th>\n",
       "      <td>11.785729</td>\n",
       "    </tr>\n",
       "    <tr>\n",
       "      <th>ADATE_11</th>\n",
       "      <td>10.923154</td>\n",
       "    </tr>\n",
       "    <tr>\n",
       "      <th>NEXTDATE</th>\n",
       "      <td>10.452564</td>\n",
       "    </tr>\n",
       "  </tbody>\n",
       "</table>\n",
       "<p>80 rows × 1 columns</p>\n",
       "</div>"
      ],
      "text/plain": [
       "          percentage_nulls\n",
       "RDATE_5          99.990567\n",
       "RAMNT_5          99.990567\n",
       "RDATE_3          99.746363\n",
       "RAMNT_3          99.746363\n",
       "RDATE_4          99.705488\n",
       "...                    ...\n",
       "ADATE_16         21.343227\n",
       "ADATE_14         19.774242\n",
       "ADATE_9          11.785729\n",
       "ADATE_11         10.923154\n",
       "NEXTDATE         10.452564\n",
       "\n",
       "[80 rows x 1 columns]"
      ]
     },
     "execution_count": 5,
     "metadata": {},
     "output_type": "execute_result"
    }
   ],
   "source": [
    "nulls = pd.DataFrame(df.isna().sum()*100/len(df), columns=['percentage_nulls'])\n",
    "nulls.sort_values('percentage_nulls', ascending = False).head(80)"
   ]
  },
  {
   "cell_type": "markdown",
   "id": "31a18b30",
   "metadata": {},
   "source": [
    "- Exclude the following variables by looking at the definitions. Create a new empty list called `drop_list`. We will append this list and then drop all the columns in this list later:\n",
    "    - `OSOURCE` - symbol definitions not provided, too many categories\n",
    "    - `ZIP CODE` - we are including state already"
   ]
  },
  {
   "cell_type": "code",
   "execution_count": 6,
   "id": "3453e791",
   "metadata": {},
   "outputs": [
    {
     "data": {
      "text/plain": [
       "['OSOURCE', 'ZIP']"
      ]
     },
     "execution_count": 6,
     "metadata": {},
     "output_type": "execute_result"
    }
   ],
   "source": [
    "drop_list=['OSOURCE','ZIP']\n",
    "#I don't understand the part of \"exclude by looking at the definitions\"\n",
    "drop_list"
   ]
  },
  {
   "cell_type": "markdown",
   "id": "16a8f098",
   "metadata": {},
   "source": [
    "- Identify columns that over 85% missing values"
   ]
  },
  {
   "cell_type": "code",
   "execution_count": 7,
   "id": "80e201c5",
   "metadata": {},
   "outputs": [],
   "source": [
    "drop_list=drop_list+(list(nulls[nulls['percentage_nulls'] > 15].index))"
   ]
  },
  {
   "cell_type": "markdown",
   "id": "812dd27c",
   "metadata": {},
   "source": [
    "- Remove those columns from the dataframe"
   ]
  },
  {
   "cell_type": "code",
   "execution_count": 8,
   "id": "4844233a",
   "metadata": {},
   "outputs": [],
   "source": [
    "cols_to_keep=list(df.columns)"
   ]
  },
  {
   "cell_type": "code",
   "execution_count": 9,
   "id": "a3357dce",
   "metadata": {},
   "outputs": [],
   "source": [
    "[cols_to_keep.remove(col) for col in drop_list]\n",
    "cols_to_keep = list(set(cols_to_keep))\n",
    "#sorted(cols_to_keep)"
   ]
  },
  {
   "cell_type": "code",
   "execution_count": 10,
   "id": "fc203bbe",
   "metadata": {},
   "outputs": [],
   "source": [
    "df_clean=df[cols_to_keep].dropna()"
   ]
  },
  {
   "cell_type": "markdown",
   "id": "d3867909",
   "metadata": {},
   "source": [
    "- Reduce the number of categories in the column `GENDER`. The column should only have either \"M\" for males, \"F\" for females, and \"other\" for all the rest\n",
    "    - Note that there are a few null values in the column. We will first replace those null values using the code below:\n",
    "\n",
    "    ```python\n",
    "    print(categorical['GENDER'].value_counts())\n",
    "    categorical['GENDER'] = categorical['GENDER'].fillna('F')"
   ]
  },
  {
   "cell_type": "code",
   "execution_count": 11,
   "id": "27e9e7cc",
   "metadata": {},
   "outputs": [
    {
     "data": {
      "text/plain": [
       "F    38770\n",
       "M    29001\n",
       "      2058\n",
       "U     1345\n",
       "J      305\n",
       "C        2\n",
       "A        2\n",
       "Name: GENDER, dtype: int64"
      ]
     },
     "execution_count": 11,
     "metadata": {},
     "output_type": "execute_result"
    }
   ],
   "source": [
    "df_clean['GENDER'].value_counts()"
   ]
  },
  {
   "cell_type": "code",
   "execution_count": 12,
   "id": "512b976c",
   "metadata": {},
   "outputs": [
    {
     "data": {
      "text/plain": [
       "F        40828\n",
       "M        29001\n",
       "other     1654\n",
       "Name: GENDER, dtype: int64"
      ]
     },
     "execution_count": 12,
     "metadata": {},
     "output_type": "execute_result"
    }
   ],
   "source": [
    "df_clean['GENDER']=df_clean['GENDER'].replace(to_replace=' ', value='F')\n",
    "to_replace_=['U','J','A','C']\n",
    "[df_clean['GENDER'].replace(to_replace=i, value='other',inplace=True) for i in to_replace_]\n",
    "df_clean['GENDER'].value_counts()"
   ]
  },
  {
   "cell_type": "code",
   "execution_count": null,
   "id": "9b7ca152",
   "metadata": {},
   "outputs": [],
   "source": []
  }
 ],
 "metadata": {
  "kernelspec": {
   "display_name": "Python 3",
   "language": "python",
   "name": "python3"
  },
  "language_info": {
   "codemirror_mode": {
    "name": "ipython",
    "version": 3
   },
   "file_extension": ".py",
   "mimetype": "text/x-python",
   "name": "python",
   "nbconvert_exporter": "python",
   "pygments_lexer": "ipython3",
   "version": "3.8.8"
  }
 },
 "nbformat": 4,
 "nbformat_minor": 5
}
